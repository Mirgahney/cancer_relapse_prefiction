{
 "cells": [
  {
   "cell_type": "code",
   "execution_count": 444,
   "metadata": {},
   "outputs": [],
   "source": [
    "%matplotlib inline\n",
    "from matplotlib import pyplot as plt\n",
    "import numpy as np\n",
    "import pandas as pd\n",
    "\n",
    "from sklearn.decomposition import PCA\n",
    "from sklearn.manifold import TSNE\n",
    "from sklearn.manifold import Isomap\n",
    "from sklearn.preprocessing import StandardScaler\n",
    "import seaborn as sns\n",
    "plt.style.use('ggplot')"
   ]
  },
  {
   "cell_type": "code",
   "execution_count": 445,
   "metadata": {},
   "outputs": [],
   "source": [
    "#Transformation\n",
    "import sklearn\n",
    "import warnings\n",
    "warnings.filterwarnings(\"ignore\")\n",
    "import skopt\n",
    "from skopt.space import Real, Integer\n",
    "from skopt.utils import use_named_args\n",
    "import time\n",
    "from sklearn import metrics\n",
    "sns.set()"
   ]
  },
  {
   "cell_type": "markdown",
   "metadata": {},
   "source": [
    "# I.Data exploration"
   ]
  },
  {
   "cell_type": "code",
   "execution_count": 446,
   "metadata": {},
   "outputs": [
    {
     "name": "stdout",
     "output_type": "stream",
     "text": [
      "rows: 184 , columns: 4654\n",
      "rows: 92 , columns: 4654\n",
      "rows: 184 , columns: 1\n"
     ]
    }
   ],
   "source": [
    "train = pd.read_csv('xtrain.txt',delimiter = \"\\t\",header=None,index_col=0)\n",
    "test = pd.read_csv('xtest.txt',delimiter = \"\\t\",header=None,index_col=0)\n",
    "label= pd.read_csv('ytrain.txt',delimiter = \"\\t\",header=None)\n",
    "train=train.T\n",
    "test=test.T\n",
    "print('rows:', train.shape[0], ', columns:', train.shape[1])\n",
    "print('rows:', test.shape[0], ', columns:', test.shape[1])\n",
    "print('rows:', label.shape[0], ', columns:', label.shape[1])"
   ]
  },
  {
   "cell_type": "code",
   "execution_count": 447,
   "metadata": {},
   "outputs": [
    {
     "data": {
      "text/html": [
       "<div>\n",
       "<style scoped>\n",
       "    .dataframe tbody tr th:only-of-type {\n",
       "        vertical-align: middle;\n",
       "    }\n",
       "\n",
       "    .dataframe tbody tr th {\n",
       "        vertical-align: top;\n",
       "    }\n",
       "\n",
       "    .dataframe thead th {\n",
       "        text-align: right;\n",
       "    }\n",
       "</style>\n",
       "<table border=\"1\" class=\"dataframe\">\n",
       "  <thead>\n",
       "    <tr style=\"text-align: right;\">\n",
       "      <th></th>\n",
       "      <th>x10006_at</th>\n",
       "      <th>x10007_at</th>\n",
       "      <th>x100129361_at</th>\n",
       "      <th>x100130449_at</th>\n",
       "      <th>x100130633_at</th>\n",
       "      <th>x100133941_at</th>\n",
       "      <th>x10014_at</th>\n",
       "      <th>x10016_at</th>\n",
       "      <th>x100188893_at</th>\n",
       "      <th>x10019_at</th>\n",
       "      <th>...</th>\n",
       "      <th>x9976_at</th>\n",
       "      <th>x9978_at</th>\n",
       "      <th>x997_at</th>\n",
       "      <th>x9984_at</th>\n",
       "      <th>x9987_at</th>\n",
       "      <th>x9988_at</th>\n",
       "      <th>x9989_at</th>\n",
       "      <th>x9994_at</th>\n",
       "      <th>x9997_at</th>\n",
       "      <th>x9_at</th>\n",
       "    </tr>\n",
       "  </thead>\n",
       "  <tbody>\n",
       "    <tr>\n",
       "      <th>1</th>\n",
       "      <td>8.44</td>\n",
       "      <td>7.84</td>\n",
       "      <td>9.23</td>\n",
       "      <td>2.20</td>\n",
       "      <td>4.93</td>\n",
       "      <td>10.31</td>\n",
       "      <td>7.85</td>\n",
       "      <td>9.91</td>\n",
       "      <td>11.37</td>\n",
       "      <td>3.48</td>\n",
       "      <td>...</td>\n",
       "      <td>7.71</td>\n",
       "      <td>11.32</td>\n",
       "      <td>6.37</td>\n",
       "      <td>8.63</td>\n",
       "      <td>8.61</td>\n",
       "      <td>7.42</td>\n",
       "      <td>8.79</td>\n",
       "      <td>4.70</td>\n",
       "      <td>7.23</td>\n",
       "      <td>8.28</td>\n",
       "    </tr>\n",
       "    <tr>\n",
       "      <th>2</th>\n",
       "      <td>7.93</td>\n",
       "      <td>8.47</td>\n",
       "      <td>7.77</td>\n",
       "      <td>2.48</td>\n",
       "      <td>6.70</td>\n",
       "      <td>11.03</td>\n",
       "      <td>3.33</td>\n",
       "      <td>9.53</td>\n",
       "      <td>10.91</td>\n",
       "      <td>4.28</td>\n",
       "      <td>...</td>\n",
       "      <td>9.98</td>\n",
       "      <td>10.40</td>\n",
       "      <td>5.96</td>\n",
       "      <td>7.61</td>\n",
       "      <td>9.51</td>\n",
       "      <td>8.20</td>\n",
       "      <td>9.27</td>\n",
       "      <td>4.70</td>\n",
       "      <td>6.70</td>\n",
       "      <td>12.78</td>\n",
       "    </tr>\n",
       "    <tr>\n",
       "      <th>3</th>\n",
       "      <td>7.53</td>\n",
       "      <td>7.49</td>\n",
       "      <td>9.49</td>\n",
       "      <td>5.66</td>\n",
       "      <td>5.99</td>\n",
       "      <td>8.87</td>\n",
       "      <td>3.48</td>\n",
       "      <td>8.02</td>\n",
       "      <td>10.73</td>\n",
       "      <td>4.07</td>\n",
       "      <td>...</td>\n",
       "      <td>8.34</td>\n",
       "      <td>10.57</td>\n",
       "      <td>6.92</td>\n",
       "      <td>8.20</td>\n",
       "      <td>8.71</td>\n",
       "      <td>8.56</td>\n",
       "      <td>8.90</td>\n",
       "      <td>4.70</td>\n",
       "      <td>7.70</td>\n",
       "      <td>12.22</td>\n",
       "    </tr>\n",
       "    <tr>\n",
       "      <th>4</th>\n",
       "      <td>7.72</td>\n",
       "      <td>8.38</td>\n",
       "      <td>8.03</td>\n",
       "      <td>5.22</td>\n",
       "      <td>6.95</td>\n",
       "      <td>2.73</td>\n",
       "      <td>4.06</td>\n",
       "      <td>9.26</td>\n",
       "      <td>10.90</td>\n",
       "      <td>7.40</td>\n",
       "      <td>...</td>\n",
       "      <td>9.05</td>\n",
       "      <td>10.92</td>\n",
       "      <td>5.73</td>\n",
       "      <td>8.44</td>\n",
       "      <td>9.18</td>\n",
       "      <td>7.86</td>\n",
       "      <td>9.30</td>\n",
       "      <td>5.58</td>\n",
       "      <td>7.95</td>\n",
       "      <td>12.18</td>\n",
       "    </tr>\n",
       "    <tr>\n",
       "      <th>5</th>\n",
       "      <td>7.89</td>\n",
       "      <td>7.75</td>\n",
       "      <td>6.99</td>\n",
       "      <td>2.20</td>\n",
       "      <td>7.06</td>\n",
       "      <td>11.38</td>\n",
       "      <td>3.65</td>\n",
       "      <td>9.22</td>\n",
       "      <td>10.37</td>\n",
       "      <td>3.89</td>\n",
       "      <td>...</td>\n",
       "      <td>9.16</td>\n",
       "      <td>10.73</td>\n",
       "      <td>7.45</td>\n",
       "      <td>7.79</td>\n",
       "      <td>9.15</td>\n",
       "      <td>7.97</td>\n",
       "      <td>8.50</td>\n",
       "      <td>4.70</td>\n",
       "      <td>6.63</td>\n",
       "      <td>12.12</td>\n",
       "    </tr>\n",
       "  </tbody>\n",
       "</table>\n",
       "<p>5 rows × 4654 columns</p>\n",
       "</div>"
      ],
      "text/plain": [
       "0  x10006_at  x10007_at  x100129361_at  x100130449_at  x100130633_at  \\\n",
       "1       8.44       7.84           9.23           2.20           4.93   \n",
       "2       7.93       8.47           7.77           2.48           6.70   \n",
       "3       7.53       7.49           9.49           5.66           5.99   \n",
       "4       7.72       8.38           8.03           5.22           6.95   \n",
       "5       7.89       7.75           6.99           2.20           7.06   \n",
       "\n",
       "0  x100133941_at  x10014_at  x10016_at  x100188893_at  x10019_at  ...    \\\n",
       "1          10.31       7.85       9.91          11.37       3.48  ...     \n",
       "2          11.03       3.33       9.53          10.91       4.28  ...     \n",
       "3           8.87       3.48       8.02          10.73       4.07  ...     \n",
       "4           2.73       4.06       9.26          10.90       7.40  ...     \n",
       "5          11.38       3.65       9.22          10.37       3.89  ...     \n",
       "\n",
       "0  x9976_at  x9978_at  x997_at  x9984_at  x9987_at  x9988_at  x9989_at  \\\n",
       "1      7.71     11.32     6.37      8.63      8.61      7.42      8.79   \n",
       "2      9.98     10.40     5.96      7.61      9.51      8.20      9.27   \n",
       "3      8.34     10.57     6.92      8.20      8.71      8.56      8.90   \n",
       "4      9.05     10.92     5.73      8.44      9.18      7.86      9.30   \n",
       "5      9.16     10.73     7.45      7.79      9.15      7.97      8.50   \n",
       "\n",
       "0  x9994_at  x9997_at  x9_at  \n",
       "1      4.70      7.23   8.28  \n",
       "2      4.70      6.70  12.78  \n",
       "3      4.70      7.70  12.22  \n",
       "4      5.58      7.95  12.18  \n",
       "5      4.70      6.63  12.12  \n",
       "\n",
       "[5 rows x 4654 columns]"
      ]
     },
     "execution_count": 447,
     "metadata": {},
     "output_type": "execute_result"
    }
   ],
   "source": [
    "train.head(5)"
   ]
  },
  {
   "cell_type": "code",
   "execution_count": 448,
   "metadata": {},
   "outputs": [
    {
     "name": "stdout",
     "output_type": "stream",
     "text": [
      "<class 'pandas.core.frame.DataFrame'>\n",
      "Int64Index: 184 entries, 1 to 184\n",
      "Columns: 4654 entries, x10006_at to x9_at\n",
      "dtypes: float64(4654)\n",
      "memory usage: 6.5 MB\n"
     ]
    }
   ],
   "source": [
    "#train_Gen.describe()\n",
    "train.info()"
   ]
  },
  {
   "cell_type": "code",
   "execution_count": 449,
   "metadata": {},
   "outputs": [
    {
     "data": {
      "text/plain": [
       "0"
      ]
     },
     "execution_count": 449,
     "metadata": {},
     "output_type": "execute_result"
    }
   ],
   "source": [
    "####### Number of missing data ########\n",
    "train.isnull().sum().sum()\n"
   ]
  },
  {
   "cell_type": "code",
   "execution_count": 450,
   "metadata": {},
   "outputs": [
    {
     "data": {
      "text/html": [
       "<div>\n",
       "<style scoped>\n",
       "    .dataframe tbody tr th:only-of-type {\n",
       "        vertical-align: middle;\n",
       "    }\n",
       "\n",
       "    .dataframe tbody tr th {\n",
       "        vertical-align: top;\n",
       "    }\n",
       "\n",
       "    .dataframe thead th {\n",
       "        text-align: right;\n",
       "    }\n",
       "</style>\n",
       "<table border=\"1\" class=\"dataframe\">\n",
       "  <thead>\n",
       "    <tr style=\"text-align: right;\">\n",
       "      <th></th>\n",
       "      <th>x10006_at</th>\n",
       "      <th>x10007_at</th>\n",
       "      <th>x100129361_at</th>\n",
       "      <th>x100130449_at</th>\n",
       "      <th>x100130633_at</th>\n",
       "      <th>x100133941_at</th>\n",
       "      <th>x10014_at</th>\n",
       "      <th>x10016_at</th>\n",
       "      <th>x100188893_at</th>\n",
       "      <th>x10019_at</th>\n",
       "      <th>...</th>\n",
       "      <th>x9976_at</th>\n",
       "      <th>x9978_at</th>\n",
       "      <th>x997_at</th>\n",
       "      <th>x9984_at</th>\n",
       "      <th>x9987_at</th>\n",
       "      <th>x9988_at</th>\n",
       "      <th>x9989_at</th>\n",
       "      <th>x9994_at</th>\n",
       "      <th>x9997_at</th>\n",
       "      <th>x9_at</th>\n",
       "    </tr>\n",
       "  </thead>\n",
       "  <tbody>\n",
       "    <tr>\n",
       "      <th>count</th>\n",
       "      <td>184.000000</td>\n",
       "      <td>184.000000</td>\n",
       "      <td>184.000000</td>\n",
       "      <td>184.000000</td>\n",
       "      <td>184.000000</td>\n",
       "      <td>184.000000</td>\n",
       "      <td>184.000000</td>\n",
       "      <td>184.000000</td>\n",
       "      <td>184.000000</td>\n",
       "      <td>184.000000</td>\n",
       "      <td>...</td>\n",
       "      <td>184.000000</td>\n",
       "      <td>184.000000</td>\n",
       "      <td>184.000000</td>\n",
       "      <td>184.000000</td>\n",
       "      <td>184.000000</td>\n",
       "      <td>184.000000</td>\n",
       "      <td>184.000000</td>\n",
       "      <td>184.000000</td>\n",
       "      <td>184.000000</td>\n",
       "      <td>184.000000</td>\n",
       "    </tr>\n",
       "    <tr>\n",
       "      <th>mean</th>\n",
       "      <td>8.177011</td>\n",
       "      <td>8.061848</td>\n",
       "      <td>8.200543</td>\n",
       "      <td>2.879457</td>\n",
       "      <td>6.999783</td>\n",
       "      <td>10.059457</td>\n",
       "      <td>3.839783</td>\n",
       "      <td>9.201739</td>\n",
       "      <td>10.927228</td>\n",
       "      <td>4.749837</td>\n",
       "      <td>...</td>\n",
       "      <td>9.038261</td>\n",
       "      <td>11.070870</td>\n",
       "      <td>5.862935</td>\n",
       "      <td>8.049728</td>\n",
       "      <td>9.535272</td>\n",
       "      <td>8.427446</td>\n",
       "      <td>9.180272</td>\n",
       "      <td>5.161576</td>\n",
       "      <td>7.427174</td>\n",
       "      <td>8.157935</td>\n",
       "    </tr>\n",
       "    <tr>\n",
       "      <th>std</th>\n",
       "      <td>0.646031</td>\n",
       "      <td>0.481127</td>\n",
       "      <td>0.750500</td>\n",
       "      <td>1.372735</td>\n",
       "      <td>0.778613</td>\n",
       "      <td>1.825424</td>\n",
       "      <td>0.634312</td>\n",
       "      <td>0.742043</td>\n",
       "      <td>0.415874</td>\n",
       "      <td>1.050290</td>\n",
       "      <td>...</td>\n",
       "      <td>1.412595</td>\n",
       "      <td>0.501227</td>\n",
       "      <td>1.050994</td>\n",
       "      <td>0.633328</td>\n",
       "      <td>0.424735</td>\n",
       "      <td>0.620824</td>\n",
       "      <td>0.677722</td>\n",
       "      <td>0.733061</td>\n",
       "      <td>0.945051</td>\n",
       "      <td>3.606550</td>\n",
       "    </tr>\n",
       "    <tr>\n",
       "      <th>min</th>\n",
       "      <td>6.210000</td>\n",
       "      <td>6.490000</td>\n",
       "      <td>5.860000</td>\n",
       "      <td>2.190000</td>\n",
       "      <td>3.710000</td>\n",
       "      <td>2.730000</td>\n",
       "      <td>2.940000</td>\n",
       "      <td>7.110000</td>\n",
       "      <td>9.970000</td>\n",
       "      <td>2.510000</td>\n",
       "      <td>...</td>\n",
       "      <td>3.780000</td>\n",
       "      <td>9.820000</td>\n",
       "      <td>3.360000</td>\n",
       "      <td>5.750000</td>\n",
       "      <td>8.460000</td>\n",
       "      <td>6.700000</td>\n",
       "      <td>6.350000</td>\n",
       "      <td>4.450000</td>\n",
       "      <td>3.840000</td>\n",
       "      <td>2.480000</td>\n",
       "    </tr>\n",
       "    <tr>\n",
       "      <th>25%</th>\n",
       "      <td>7.790000</td>\n",
       "      <td>7.757500</td>\n",
       "      <td>7.802500</td>\n",
       "      <td>2.200000</td>\n",
       "      <td>6.605000</td>\n",
       "      <td>9.502500</td>\n",
       "      <td>3.440000</td>\n",
       "      <td>8.735000</td>\n",
       "      <td>10.670000</td>\n",
       "      <td>4.055000</td>\n",
       "      <td>...</td>\n",
       "      <td>8.485000</td>\n",
       "      <td>10.737500</td>\n",
       "      <td>5.327500</td>\n",
       "      <td>7.647500</td>\n",
       "      <td>9.270000</td>\n",
       "      <td>8.037500</td>\n",
       "      <td>8.842500</td>\n",
       "      <td>4.700000</td>\n",
       "      <td>6.847500</td>\n",
       "      <td>4.475000</td>\n",
       "    </tr>\n",
       "    <tr>\n",
       "      <th>50%</th>\n",
       "      <td>8.105000</td>\n",
       "      <td>8.055000</td>\n",
       "      <td>8.190000</td>\n",
       "      <td>2.200000</td>\n",
       "      <td>7.030000</td>\n",
       "      <td>10.300000</td>\n",
       "      <td>3.730000</td>\n",
       "      <td>9.235000</td>\n",
       "      <td>10.920000</td>\n",
       "      <td>4.575000</td>\n",
       "      <td>...</td>\n",
       "      <td>9.260000</td>\n",
       "      <td>11.070000</td>\n",
       "      <td>5.790000</td>\n",
       "      <td>8.085000</td>\n",
       "      <td>9.570000</td>\n",
       "      <td>8.460000</td>\n",
       "      <td>9.245000</td>\n",
       "      <td>4.790000</td>\n",
       "      <td>7.475000</td>\n",
       "      <td>8.695000</td>\n",
       "    </tr>\n",
       "    <tr>\n",
       "      <th>75%</th>\n",
       "      <td>8.582500</td>\n",
       "      <td>8.350000</td>\n",
       "      <td>8.610000</td>\n",
       "      <td>2.792500</td>\n",
       "      <td>7.492500</td>\n",
       "      <td>11.030000</td>\n",
       "      <td>4.062500</td>\n",
       "      <td>9.592500</td>\n",
       "      <td>11.200000</td>\n",
       "      <td>5.252500</td>\n",
       "      <td>...</td>\n",
       "      <td>9.992500</td>\n",
       "      <td>11.422500</td>\n",
       "      <td>6.450000</td>\n",
       "      <td>8.442500</td>\n",
       "      <td>9.832500</td>\n",
       "      <td>8.805000</td>\n",
       "      <td>9.625000</td>\n",
       "      <td>5.310000</td>\n",
       "      <td>8.082500</td>\n",
       "      <td>11.522500</td>\n",
       "    </tr>\n",
       "    <tr>\n",
       "      <th>max</th>\n",
       "      <td>10.000000</td>\n",
       "      <td>9.710000</td>\n",
       "      <td>10.910000</td>\n",
       "      <td>9.490000</td>\n",
       "      <td>8.890000</td>\n",
       "      <td>13.540000</td>\n",
       "      <td>7.850000</td>\n",
       "      <td>12.820000</td>\n",
       "      <td>12.840000</td>\n",
       "      <td>8.550000</td>\n",
       "      <td>...</td>\n",
       "      <td>11.350000</td>\n",
       "      <td>12.230000</td>\n",
       "      <td>8.640000</td>\n",
       "      <td>9.720000</td>\n",
       "      <td>10.730000</td>\n",
       "      <td>10.330000</td>\n",
       "      <td>11.120000</td>\n",
       "      <td>8.510000</td>\n",
       "      <td>9.750000</td>\n",
       "      <td>13.380000</td>\n",
       "    </tr>\n",
       "  </tbody>\n",
       "</table>\n",
       "<p>8 rows × 4654 columns</p>\n",
       "</div>"
      ],
      "text/plain": [
       "0       x10006_at   x10007_at  x100129361_at  x100130449_at  x100130633_at  \\\n",
       "count  184.000000  184.000000     184.000000     184.000000     184.000000   \n",
       "mean     8.177011    8.061848       8.200543       2.879457       6.999783   \n",
       "std      0.646031    0.481127       0.750500       1.372735       0.778613   \n",
       "min      6.210000    6.490000       5.860000       2.190000       3.710000   \n",
       "25%      7.790000    7.757500       7.802500       2.200000       6.605000   \n",
       "50%      8.105000    8.055000       8.190000       2.200000       7.030000   \n",
       "75%      8.582500    8.350000       8.610000       2.792500       7.492500   \n",
       "max     10.000000    9.710000      10.910000       9.490000       8.890000   \n",
       "\n",
       "0      x100133941_at   x10014_at   x10016_at  x100188893_at   x10019_at  \\\n",
       "count     184.000000  184.000000  184.000000     184.000000  184.000000   \n",
       "mean       10.059457    3.839783    9.201739      10.927228    4.749837   \n",
       "std         1.825424    0.634312    0.742043       0.415874    1.050290   \n",
       "min         2.730000    2.940000    7.110000       9.970000    2.510000   \n",
       "25%         9.502500    3.440000    8.735000      10.670000    4.055000   \n",
       "50%        10.300000    3.730000    9.235000      10.920000    4.575000   \n",
       "75%        11.030000    4.062500    9.592500      11.200000    5.252500   \n",
       "max        13.540000    7.850000   12.820000      12.840000    8.550000   \n",
       "\n",
       "0         ...        x9976_at    x9978_at     x997_at    x9984_at    x9987_at  \\\n",
       "count     ...      184.000000  184.000000  184.000000  184.000000  184.000000   \n",
       "mean      ...        9.038261   11.070870    5.862935    8.049728    9.535272   \n",
       "std       ...        1.412595    0.501227    1.050994    0.633328    0.424735   \n",
       "min       ...        3.780000    9.820000    3.360000    5.750000    8.460000   \n",
       "25%       ...        8.485000   10.737500    5.327500    7.647500    9.270000   \n",
       "50%       ...        9.260000   11.070000    5.790000    8.085000    9.570000   \n",
       "75%       ...        9.992500   11.422500    6.450000    8.442500    9.832500   \n",
       "max       ...       11.350000   12.230000    8.640000    9.720000   10.730000   \n",
       "\n",
       "0        x9988_at    x9989_at    x9994_at    x9997_at       x9_at  \n",
       "count  184.000000  184.000000  184.000000  184.000000  184.000000  \n",
       "mean     8.427446    9.180272    5.161576    7.427174    8.157935  \n",
       "std      0.620824    0.677722    0.733061    0.945051    3.606550  \n",
       "min      6.700000    6.350000    4.450000    3.840000    2.480000  \n",
       "25%      8.037500    8.842500    4.700000    6.847500    4.475000  \n",
       "50%      8.460000    9.245000    4.790000    7.475000    8.695000  \n",
       "75%      8.805000    9.625000    5.310000    8.082500   11.522500  \n",
       "max     10.330000   11.120000    8.510000    9.750000   13.380000  \n",
       "\n",
       "[8 rows x 4654 columns]"
      ]
     },
     "execution_count": 450,
     "metadata": {},
     "output_type": "execute_result"
    }
   ],
   "source": [
    "train.describe()"
   ]
  },
  {
   "cell_type": "code",
   "execution_count": 451,
   "metadata": {},
   "outputs": [
    {
     "name": "stdout",
     "output_type": "stream",
     "text": [
      " Class 1 percentage: %35.869565\n",
      "Class -1 percentage: %64.130435\n"
     ]
    }
   ],
   "source": [
    "# Now lets check the class distributions\n",
    "labels=np.array(label)\n",
    "N,D = label.shape\n",
    "positive=0\n",
    "negative=0\n",
    "for i in range(N):\n",
    "    if labels[i]== 1:\n",
    "        positive+=1\n",
    "    else :\n",
    "        negative+=1\n",
    "classP =positive /N\n",
    "classN= negative/N\n",
    "print(' Class 1 percentage: %{:2f}'.format(100*classP))\n",
    "print('Class -1 percentage: %{:2f}'.format(100*classN))"
   ]
  },
  {
   "cell_type": "markdown",
   "metadata": {},
   "source": [
    "## II.Features Choosing"
   ]
  },
  {
   "cell_type": "code",
   "execution_count": null,
   "metadata": {},
   "outputs": [],
   "source": [
    "Here , we try features selection using PCA and Lasso\n",
    "And We get better performance by using the features select by LASSO method"
   ]
  },
  {
   "cell_type": "code",
   "execution_count": 452,
   "metadata": {},
   "outputs": [],
   "source": [
    "# corr = train.corr()\n",
    "# plt.subplots(figsize=(30, 30))\n",
    "# cmap = sns.diverging_palette(150, 350, as_cmap=True)\n",
    "# sns.heatmap(corr, cmap=\"RdYlBu\", vmax=15, vmin=0.6, center=0.1,\\\n",
    "#             square=True, linewidths=0, cbar_kws={\"shrink\": .5}, annot = True);"
   ]
  },
  {
   "cell_type": "code",
   "execution_count": 453,
   "metadata": {},
   "outputs": [],
   "source": [
    "# from intertools import combinaisons\n",
    "# from sklearn.preprocessing import PolynomialFeatures\n",
    "\n",
    "# def add_interactions(data):\n",
    "#     #get features names\n",
    "#     comb=list(combinaisons(list(data.columns),2))\n"
   ]
  },
  {
   "cell_type": "markdown",
   "metadata": {},
   "source": [
    "## 1.Features reduction with PCA"
   ]
  },
  {
   "cell_type": "code",
   "execution_count": 454,
   "metadata": {},
   "outputs": [],
   "source": [
    "# dimentionality reduction\n",
    "from sklearn.decomposition import PCA\n",
    "\n",
    "pca = PCA(0.95) # to get the independent representation\n"
   ]
  },
  {
   "cell_type": "code",
   "execution_count": 455,
   "metadata": {},
   "outputs": [],
   "source": [
    "from sklearn.preprocessing import normalize, Normalizer\n",
    "train_norm=normalize(train)\n",
    "test_norm=normalize(train)\n",
    "train_pca_select=pca.fit_transform(train_norm)\n",
    "test_pca_select=pca.fit_transform(test_norm)"
   ]
  },
  {
   "cell_type": "code",
   "execution_count": 456,
   "metadata": {},
   "outputs": [
    {
     "data": {
      "text/plain": [
       "((184, 4654), (184, 134))"
      ]
     },
     "execution_count": 456,
     "metadata": {},
     "output_type": "execute_result"
    }
   ],
   "source": [
    "train.shape,train_pca_select.shape"
   ]
  },
  {
   "cell_type": "markdown",
   "metadata": {},
   "source": [
    "## 2.Using Lasso to degenerate the parameters"
   ]
  },
  {
   "cell_type": "code",
   "execution_count": 457,
   "metadata": {},
   "outputs": [
    {
     "data": {
      "text/plain": [
       "(-0.14313772871031608, 0.19779700998376284)"
      ]
     },
     "execution_count": 457,
     "metadata": {},
     "output_type": "execute_result"
    }
   ],
   "source": [
    "\n",
    "from sklearn.linear_model import Lasso\n",
    "\n",
    "lass = Lasso(\n",
    "        max_iter=3000,\n",
    "        alpha= 0.000281,\n",
    "        random_state= 5 \n",
    "        )\n",
    "lass.fit(train,label)\n",
    "lass.coef_.min(), lass.coef_.max()"
   ]
  },
  {
   "cell_type": "markdown",
   "metadata": {},
   "source": [
    "### Lasso features importances"
   ]
  },
  {
   "cell_type": "code",
   "execution_count": 526,
   "metadata": {},
   "outputs": [
    {
     "data": {
      "text/plain": [
       "Text(0.5,1,'Coefficients in the Lasso Model')"
      ]
     },
     "execution_count": 526,
     "metadata": {},
     "output_type": "execute_result"
    },
    {
     "data": {
      "image/png": "[encoded data removed]",
      "text/plain": [
       "<Figure size 576x720 with 1 Axes>"
      ]
     },
     "metadata": {},
     "output_type": "display_data"
    }
   ],
   "source": [
    "import matplotlib\n",
    "coef = pd.Series(lass.coef_, index = train.columns)\n",
    "#print(\"Lasso picked \" + str(sum(coef != 0)) + \" variables and eliminated the other \" +  str(sum(coef == 0)) + \" variables\")\n",
    "\n",
    "\n",
    "imp_coef = pd.concat([coef.sort_values().head(25),\n",
    "                     coef.sort_values().tail(25)])\n",
    "matplotlib.rcParams['figure.figsize'] = (8.0, 10.0)\n",
    "imp_coef.plot(kind = \"barh\")\n",
    "plt.title(\"Coefficients in the Lasso Model\")"
   ]
  },
  {
   "cell_type": "code",
   "execution_count": 512,
   "metadata": {},
   "outputs": [
    {
     "name": "stdout",
     "output_type": "stream",
     "text": [
      "Features reduced from       4654 to        242\n"
     ]
    }
   ],
   "source": [
    "good_feats = np.abs(np.array(lass.coef_)) > 0\n",
    "\n",
    "print(\"Features reduced from %10d to %10d\" % (train_norm.shape[1], int(good_feats.sum())))"
   ]
  },
  {
   "cell_type": "code",
   "execution_count": 460,
   "metadata": {},
   "outputs": [],
   "source": [
    "train_lasso_select = train.iloc[:, good_feats]\n",
    "test_lasso_select= test.iloc[:, good_feats]\n",
    "train_lasso_select.to_csv('train_lasso_select.csv',index=False)\n",
    "test_lasso_select.to_csv('test_lasso_select.csv',index=False)"
   ]
  },
  {
   "cell_type": "markdown",
   "metadata": {},
   "source": [
    "## 3.Using XGBooster to plot importance"
   ]
  },
  {
   "cell_type": "code",
   "execution_count": 521,
   "metadata": {},
   "outputs": [
    {
     "data": {
      "text/plain": [
       "XGBClassifier(base_score=0.5, booster='gbtree', colsample_bylevel=1,\n",
       "       colsample_bytree=1, gamma=0, learning_rate=0.01, max_delta_step=0,\n",
       "       max_depth=5, min_child_weight=1, missing=None, n_estimators=1000,\n",
       "       n_jobs=1, nthread=None, objective='binary:logistic', random_state=0,\n",
       "       reg_alpha=0, reg_lambda=1, scale_pos_weight=1, seed=None,\n",
       "       silent=True, subsample=1)"
      ]
     },
     "execution_count": 521,
     "metadata": {},
     "output_type": "execute_result"
    }
   ],
   "source": [
    "from xgboost import XGBClassifier,plot_importance\n",
    "model = XGBClassifier(max_depth=5,n_estimators=1000,learning_rate=1e-2)\n",
    "model.fit(train,label)"
   ]
  },
  {
   "cell_type": "code",
   "execution_count": 524,
   "metadata": {},
   "outputs": [
    {
     "data": {
      "image/png": "[encoded data removed]",
      "text/plain": [
       "<Figure size 576x720 with 1 Axes>"
      ]
     },
     "metadata": {},
     "output_type": "display_data"
    }
   ],
   "source": [
    "plot_importance(model,max_num_features=50)\n",
    "plt.show()"
   ]
  },
  {
   "cell_type": "markdown",
   "metadata": {},
   "source": [
    "LASSO give better performance with the following models"
   ]
  },
  {
   "cell_type": "markdown",
   "metadata": {},
   "source": [
    "# Modeling \n",
    "\n"
   ]
  },
  {
   "cell_type": "markdown",
   "metadata": {},
   "source": [
    "## 1. Overview of some Classication Models\n",
    "     Here i test the following models with default parameter\n",
    "\n",
    "    Linear SVM\n",
    "    Non linear SVM\n",
    "    Logistic Regression\n",
    "    Random Forest\n",
    "    XGBoost Classifier\n",
    "   "
   ]
  },
  {
   "cell_type": "code",
   "execution_count": 461,
   "metadata": {},
   "outputs": [],
   "source": [
    "#scikit imports\n",
    "from sklearn.model_selection import train_test_split, GridSearchCV, cross_val_score, KFold\n",
    "from sklearn.metrics import classification_report, accuracy_score,roc_auc_score\n",
    "#classifiers\n",
    "from sklearn.linear_model import LogisticRegressionCV\n",
    "from sklearn.neighbors import KNeighborsClassifier\n",
    "from sklearn.svm import SVC\n",
    "from sklearn.discriminant_analysis import LinearDiscriminantAnalysis\n",
    "from sklearn.neural_network import MLPClassifier\n",
    "from sklearn.ensemble import  AdaBoostClassifier, RandomForestClassifier\n",
    "from xgboost import XGBClassifier\n",
    "from sklearn.gaussian_process import GaussianProcessClassifier\n",
    "from sklearn.naive_bayes import GaussianNB\n",
    "from sklearn.gaussian_process.kernels import Matern\n",
    "from sklearn.ensemble import VotingClassifier\n",
    "#Transformation\n",
    "from sklearn.preprocessing import StandardScaler\n",
    "\n",
    "import warnings\n",
    "warnings.filterwarnings(\"ignore\")"
   ]
  },
  {
   "cell_type": "markdown",
   "metadata": {},
   "source": [
    "#### Assessing model performance\n",
    "    Randomly split data into trains/tests sets\n",
    "    Build model on train set and assess performance on test set\n",
    "    Use  AUC of ROC performance  mettrics "
   ]
  },
  {
   "cell_type": "code",
   "execution_count": 462,
   "metadata": {},
   "outputs": [],
   "source": [
    "#Splitting data into training and validation set\n",
    "np.random.seed(90)\n",
    "x_train, x_test, y_train, y_test = train_test_split(train_lasso_select,label,test_size = 0.20, shuffle=True)"
   ]
  },
  {
   "cell_type": "code",
   "execution_count": 463,
   "metadata": {},
   "outputs": [],
   "source": [
    "#Data transformation with mean 0 and SD 1.\n",
    "standard_scaler = StandardScaler()\n",
    "x_train = standard_scaler.fit_transform(x_train)\n",
    "x_test = standard_scaler.transform(x_test)\n"
   ]
  },
  {
   "cell_type": "markdown",
   "metadata": {},
   "source": [
    "# 1.Linear SVM"
   ]
  },
  {
   "cell_type": "code",
   "execution_count": 464,
   "metadata": {},
   "outputs": [],
   "source": [
    "#np.random.seed(5)"
   ]
  },
  {
   "cell_type": "code",
   "execution_count": 465,
   "metadata": {},
   "outputs": [],
   "source": [
    "import pandas as pd\n",
    "import numpy as np\n",
    "from sklearn.metrics import confusion_matrix,auc,roc_curve\n",
    "from sklearn.metrics import classification_report\n",
    "from sklearn.datasets import load_breast_cancer\n",
    "#Models for test\n",
    "from sklearn.linear_model import LogisticRegression\n",
    "from sklearn.svm import LinearSVC\n",
    "from sklearn.ensemble import RandomForestClassifier\n",
    "from sklearn.model_selection import train_test_split, cross_val_score, KFold\n"
   ]
  },
  {
   "cell_type": "code",
   "execution_count": 466,
   "metadata": {},
   "outputs": [
    {
     "data": {
      "text/plain": [
       "LinearSVC(C=1.0, class_weight=None, dual=True, fit_intercept=True,\n",
       "     intercept_scaling=1, loss='squared_hinge', max_iter=1000,\n",
       "     multi_class='ovr', penalty='l2', random_state=None, tol=0.0001,\n",
       "     verbose=0)"
      ]
     },
     "execution_count": 466,
     "metadata": {},
     "output_type": "execute_result"
    }
   ],
   "source": [
    "#SVM = LinearSVC(penalty='l2',loss='hinge',C=10)\n",
    "SVM = LinearSVC()\n",
    "SVM.fit(x_train,y_train)\n"
   ]
  },
  {
   "cell_type": "code",
   "execution_count": 467,
   "metadata": {},
   "outputs": [
    {
     "data": {
      "text/plain": [
       "array([[19,  1],\n",
       "       [ 0, 17]])"
      ]
     },
     "execution_count": 467,
     "metadata": {},
     "output_type": "execute_result"
    }
   ],
   "source": [
    "predictions = SVM.predict(x_test)\n",
    "confusion_matrix(y_test, predictions)"
   ]
  },
  {
   "cell_type": "code",
   "execution_count": 468,
   "metadata": {},
   "outputs": [
    {
     "name": "stdout",
     "output_type": "stream",
     "text": [
      "             precision    recall  f1-score   support\n",
      "\n",
      "         -1       1.00      0.95      0.97        20\n",
      "          1       0.94      1.00      0.97        17\n",
      "\n",
      "avg / total       0.97      0.97      0.97        37\n",
      "\n"
     ]
    }
   ],
   "source": [
    "print(classification_report(y_test, predictions))"
   ]
  },
  {
   "cell_type": "code",
   "execution_count": 469,
   "metadata": {},
   "outputs": [
    {
     "name": "stdout",
     "output_type": "stream",
     "text": [
      "0.9257471264367816\n"
     ]
    }
   ],
   "source": [
    "SVM_accur = sklearn.model_selection.cross_val_score(SVM, \n",
    "                                        x_train, y_train, \n",
    "                                        scoring='accuracy',cv=5)\n",
    "\n",
    "print(SVM_accur.mean())"
   ]
  },
  {
   "cell_type": "code",
   "execution_count": 470,
   "metadata": {},
   "outputs": [
    {
     "data": {
      "text/plain": [
       "0.972972972972973"
      ]
     },
     "execution_count": 470,
     "metadata": {},
     "output_type": "execute_result"
    }
   ],
   "source": [
    "SVM.score(x_test,y_test)"
   ]
  },
  {
   "cell_type": "code",
   "execution_count": 411,
   "metadata": {},
   "outputs": [],
   "source": [
    "# test_scoreSVM=SVM.fit(x_train, y_train).decision_function(x_test)\n",
    "# # x,y,_=roc_curve(y_test, test_scoreSVM)"
   ]
  },
  {
   "cell_type": "code",
   "execution_count": 529,
   "metadata": {},
   "outputs": [
    {
     "data": {
      "text/plain": [
       "(37, 1)"
      ]
     },
     "execution_count": 529,
     "metadata": {},
     "output_type": "execute_result"
    }
   ],
   "source": [
    "# score of prediction \n",
    "y_scoreSVM = SVM.fit(x_train, y_train).decision_function(test_lasso_select)\n"
   ]
  },
  {
   "cell_type": "markdown",
   "metadata": {},
   "source": [
    "#### Area under ROC curve for SVM"
   ]
  },
  {
   "cell_type": "code",
   "execution_count": 540,
   "metadata": {},
   "outputs": [
    {
     "data": {
      "image/png": "[encoded data removed]",
      "text/plain": [
       "<Figure size 576x720 with 1 Axes>"
      ]
     },
     "metadata": {},
     "output_type": "display_data"
    }
   ],
   "source": [
    "y_score = SVM.fit(x_train, y_train).decision_function(x_test)\n",
    "fpr, tpr, _ = roc_curve(y_test, y_score)\n",
    "roc_auc = auc(fpr, tpr,reorder=False)\n",
    "roc_auc\n",
    "plt.figure()\n",
    "lw = 2\n",
    "plt.plot(fpr, tpr, color='darkorange',\n",
    "         lw=lw, label='ROC curve (area = %0.2f)' % roc_auc)\n",
    "plt.plot([0, 1], [0, 1], color='navy', lw=lw, linestyle='--')\n",
    "plt.xlim([0.0, 1.0])\n",
    "plt.ylim([0.0, 1.05])\n",
    "plt.xlabel('False Positive Rate')\n",
    "plt.ylabel('True Positive Rate')\n",
    "plt.title('Receiver operating characteristic example')\n",
    "plt.legend(loc=\"lower right\")\n",
    "plt.show()"
   ]
  },
  {
   "cell_type": "markdown",
   "metadata": {},
   "source": [
    "# 2.Non linear SVM"
   ]
  },
  {
   "cell_type": "code",
   "execution_count": 413,
   "metadata": {},
   "outputs": [],
   "source": [
    "from sklearn.svm import SVC"
   ]
  },
  {
   "cell_type": "code",
   "execution_count": 563,
   "metadata": {},
   "outputs": [
    {
     "data": {
      "text/plain": [
       "SVC(C=1.0, cache_size=200, class_weight=None, coef0=0.0,\n",
       "  decision_function_shape='ovr', degree=3, gamma='auto', kernel='rbf',\n",
       "  max_iter=-1, probability=False, random_state=None, shrinking=True,\n",
       "  tol=0.001, verbose=False)"
      ]
     },
     "execution_count": 563,
     "metadata": {},
     "output_type": "execute_result"
    }
   ],
   "source": [
    "KSVM=SVC()\n",
    "KSVM.fit(x_train,y_train)\n"
   ]
  },
  {
   "cell_type": "code",
   "execution_count": 564,
   "metadata": {},
   "outputs": [
    {
     "data": {
      "text/plain": [
       "array([[20,  0],\n",
       "       [14,  3]])"
      ]
     },
     "execution_count": 564,
     "metadata": {},
     "output_type": "execute_result"
    }
   ],
   "source": [
    "pred_KSVM = KSVM.predict(x_test)\n",
    "confusion_matrix(y_test, pred_KSVM)"
   ]
  },
  {
   "cell_type": "code",
   "execution_count": 565,
   "metadata": {},
   "outputs": [
    {
     "name": "stdout",
     "output_type": "stream",
     "text": [
      "             precision    recall  f1-score   support\n",
      "\n",
      "         -1       0.59      1.00      0.74        20\n",
      "          1       1.00      0.18      0.30        17\n",
      "\n",
      "avg / total       0.78      0.62      0.54        37\n",
      "\n"
     ]
    }
   ],
   "source": [
    "print(classification_report(y_test,pred_KSVM))"
   ]
  },
  {
   "cell_type": "code",
   "execution_count": 566,
   "metadata": {},
   "outputs": [
    {
     "name": "stdout",
     "output_type": "stream",
     "text": [
      "0.6667487684729064\n"
     ]
    }
   ],
   "source": [
    "KSVM_accur = sklearn.model_selection.cross_val_score(KSVM, \n",
    "                                        x_train, y_train, \n",
    "                                        scoring='accuracy',cv=5)\n",
    "\n",
    "print(KSVM_accur.mean())"
   ]
  },
  {
   "cell_type": "code",
   "execution_count": 549,
   "metadata": {},
   "outputs": [
    {
     "data": {
      "text/plain": [
       "0.6216216216216216"
      ]
     },
     "execution_count": 549,
     "metadata": {},
     "output_type": "execute_result"
    }
   ],
   "source": [
    "KSVM.score(x_test,y_test)"
   ]
  },
  {
   "cell_type": "code",
   "execution_count": 550,
   "metadata": {},
   "outputs": [],
   "source": [
    "# score of prediction \n",
    "y_scoreKSVM = KSVM.fit(x_train, y_train).decision_function(test_lasso_select)"
   ]
  },
  {
   "cell_type": "code",
   "execution_count": 552,
   "metadata": {},
   "outputs": [
    {
     "data": {
      "image/png": "[encoded data removed]",
      "text/plain": [
       "<Figure size 576x720 with 1 Axes>"
      ]
     },
     "metadata": {},
     "output_type": "display_data"
    }
   ],
   "source": [
    "y_score_KSVM = KSVM.fit(x_train, y_train).decision_function(x_test)\n",
    "fpr_ksvm, tpr_ksvm, _ = roc_curve(y_test, y_score_log)\n",
    "roc_auck = auc(fpr_ksvm, tpr_ksvm,reorder=False)\n",
    "roc_auc\n",
    "plt.figure()\n",
    "lw = 2\n",
    "plt.plot(fpr_ksvm, tpr_ksvm, color='darkorange',\n",
    "         lw=lw, label='ROC curve (area = %0.2f)' % roc_auck)\n",
    "plt.plot([0, 1], [0, 1], color='navy', lw=lw, linestyle='--')\n",
    "plt.xlim([0.0, 1.0])\n",
    "plt.ylim([0.0, 1.05])\n",
    "plt.xlabel('False Positive Rate')\n",
    "plt.ylabel('True Positive Rate')\n",
    "plt.title('Receiver operating characteristic example')\n",
    "plt.legend(loc=\"lower right\")\n",
    "plt.show()"
   ]
  },
  {
   "cell_type": "markdown",
   "metadata": {},
   "source": [
    "# 3.Logistic Regression"
   ]
  },
  {
   "cell_type": "code",
   "execution_count": 420,
   "metadata": {},
   "outputs": [
    {
     "data": {
      "text/plain": [
       "LogisticRegression(C=1.0, class_weight=None, dual=False, fit_intercept=True,\n",
       "          intercept_scaling=1, max_iter=100, multi_class='ovr', n_jobs=1,\n",
       "          penalty='l2', random_state=None, solver='liblinear', tol=0.0001,\n",
       "          verbose=0, warm_start=False)"
      ]
     },
     "execution_count": 420,
     "metadata": {},
     "output_type": "execute_result"
    }
   ],
   "source": [
    "LR = LogisticRegression()\n",
    "LR.fit(x_train, y_train)"
   ]
  },
  {
   "cell_type": "code",
   "execution_count": 421,
   "metadata": {},
   "outputs": [
    {
     "name": "stdout",
     "output_type": "stream",
     "text": [
      "0.9188341543513957\n"
     ]
    }
   ],
   "source": [
    "LR_accur = sklearn.model_selection.cross_val_score(LR, \n",
    "                                        x_train, y_train, \n",
    "                                        scoring='accuracy',cv=5)\n",
    "\n",
    "print(LR_accur.mean())"
   ]
  },
  {
   "cell_type": "code",
   "execution_count": 422,
   "metadata": {},
   "outputs": [
    {
     "data": {
      "text/plain": [
       "0.972972972972973"
      ]
     },
     "execution_count": 422,
     "metadata": {},
     "output_type": "execute_result"
    }
   ],
   "source": [
    "LR.score(x_test, y_test)"
   ]
  },
  {
   "cell_type": "code",
   "execution_count": 423,
   "metadata": {},
   "outputs": [
    {
     "data": {
      "text/plain": [
       "array([[19,  1],\n",
       "       [ 0, 17]])"
      ]
     },
     "execution_count": 423,
     "metadata": {},
     "output_type": "execute_result"
    }
   ],
   "source": [
    "pred_LR = LR.predict(x_test)\n",
    "confusion_matrix(y_test, pred_LR)"
   ]
  },
  {
   "cell_type": "code",
   "execution_count": 424,
   "metadata": {},
   "outputs": [
    {
     "name": "stdout",
     "output_type": "stream",
     "text": [
      "             precision    recall  f1-score   support\n",
      "\n",
      "         -1       1.00      0.95      0.97        20\n",
      "          1       0.94      1.00      0.97        17\n",
      "\n",
      "avg / total       0.97      0.97      0.97        37\n",
      "\n"
     ]
    }
   ],
   "source": [
    "print(classification_report(y_test, pred_LR))"
   ]
  },
  {
   "cell_type": "code",
   "execution_count": 349,
   "metadata": {},
   "outputs": [
    {
     "data": {
      "text/plain": [
       "(92,)"
      ]
     },
     "execution_count": 349,
     "metadata": {},
     "output_type": "execute_result"
    }
   ],
   "source": [
    "# score of prediction \n",
    "y_scoreLR = LR.fit(x_train, y_train).decision_function(test_lasso_select)\n"
   ]
  },
  {
   "cell_type": "markdown",
   "metadata": {},
   "source": [
    "#### Area under ROC curve for SVM"
   ]
  },
  {
   "cell_type": "code",
   "execution_count": 544,
   "metadata": {},
   "outputs": [
    {
     "data": {
      "image/png": "[encoded data removed]",
      "text/plain": [
       "<Figure size 576x720 with 1 Axes>"
      ]
     },
     "metadata": {},
     "output_type": "display_data"
    }
   ],
   "source": [
    "y_score_log = LR.fit(x_train, y_train).decision_function(x_test)\n",
    "fpr_lg, tpr_lg, _ = roc_curve(y_test, y_score_log)\n",
    "roc_auc = auc(fpr_lg, tpr_lg,reorder=False)\n",
    "roc_auc\n",
    "plt.figure()\n",
    "lw = 2\n",
    "plt.plot(fpr_lg, tpr_lg, color='darkorange',\n",
    "         lw=lw, label='ROC curve (area = %0.2f)' % roc_auc)\n",
    "plt.plot([0, 1], [0, 1], color='navy', lw=lw, linestyle='--')\n",
    "plt.xlim([0.0, 1.0])\n",
    "plt.ylim([0.0, 1.05])\n",
    "plt.xlabel('False Positive Rate')\n",
    "plt.ylabel('True Positive Rate')\n",
    "plt.title('Receiver operating characteristic example')\n",
    "plt.legend(loc=\"lower right\")\n",
    "plt.show()"
   ]
  },
  {
   "cell_type": "markdown",
   "metadata": {},
   "source": [
    "# 4.Random Forest"
   ]
  },
  {
   "cell_type": "code",
   "execution_count": 222,
   "metadata": {},
   "outputs": [
    {
     "data": {
      "text/plain": [
       "RandomForestClassifier(bootstrap=True, class_weight=None, criterion='gini',\n",
       "            max_depth=None, max_features='auto', max_leaf_nodes=None,\n",
       "            min_impurity_decrease=0.0, min_impurity_split=None,\n",
       "            min_samples_leaf=1, min_samples_split=2,\n",
       "            min_weight_fraction_leaf=0.0, n_estimators=10, n_jobs=1,\n",
       "            oob_score=False, random_state=None, verbose=0,\n",
       "            warm_start=False)"
      ]
     },
     "execution_count": 222,
     "metadata": {},
     "output_type": "execute_result"
    }
   ],
   "source": [
    "RF=RandomForestClassifier()\n",
    "RF.fit(x_train,y_train)"
   ]
  },
  {
   "cell_type": "code",
   "execution_count": 223,
   "metadata": {},
   "outputs": [
    {
     "data": {
      "text/plain": [
       "array([[20,  0],\n",
       "       [11,  6]])"
      ]
     },
     "execution_count": 223,
     "metadata": {},
     "output_type": "execute_result"
    }
   ],
   "source": [
    "pred_RF = RF.predict(x_test)\n",
    "confusion_matrix(y_test, pred_RF)"
   ]
  },
  {
   "cell_type": "code",
   "execution_count": 224,
   "metadata": {},
   "outputs": [
    {
     "name": "stdout",
     "output_type": "stream",
     "text": [
      "             precision    recall  f1-score   support\n",
      "\n",
      "         -1       0.65      1.00      0.78        20\n",
      "          1       1.00      0.35      0.52        17\n",
      "\n",
      "avg / total       0.81      0.70      0.66        37\n",
      "\n"
     ]
    }
   ],
   "source": [
    "print(classification_report(y_test, pred_RF))"
   ]
  },
  {
   "cell_type": "code",
   "execution_count": 225,
   "metadata": {},
   "outputs": [
    {
     "name": "stdout",
     "output_type": "stream",
     "text": [
      "0.6477011494252874\n"
     ]
    }
   ],
   "source": [
    "RF_accur = sklearn.model_selection.cross_val_score(RF, \n",
    "                                        x_train, y_train, \n",
    "                                        scoring='accuracy',cv=5)\n",
    "\n",
    "print(RF_accur.mean())"
   ]
  },
  {
   "cell_type": "code",
   "execution_count": 226,
   "metadata": {},
   "outputs": [
    {
     "data": {
      "text/plain": [
       "0.7027027027027027"
      ]
     },
     "execution_count": 226,
     "metadata": {},
     "output_type": "execute_result"
    }
   ],
   "source": [
    "RF.score(x_test,y_test)"
   ]
  },
  {
   "cell_type": "code",
   "execution_count": 304,
   "metadata": {},
   "outputs": [],
   "source": [
    "# score of prediction \n",
    "#y_scoreRF = RF.fit(x_train, y_train).decision_function(test_lasso_select)"
   ]
  },
  {
   "cell_type": "markdown",
   "metadata": {},
   "source": [
    "# 5.XGBoost Classifier"
   ]
  },
  {
   "cell_type": "code",
   "execution_count": 228,
   "metadata": {},
   "outputs": [
    {
     "data": {
      "text/plain": [
       "XGBClassifier(base_score=0.5, booster='gbtree', colsample_bylevel=1,\n",
       "       colsample_bytree=1, gamma=0, learning_rate=0.1, max_delta_step=0,\n",
       "       max_depth=3, min_child_weight=1, missing=None, n_estimators=100,\n",
       "       n_jobs=1, nthread=None, objective='binary:logistic', random_state=0,\n",
       "       reg_alpha=0, reg_lambda=1, scale_pos_weight=1, seed=None,\n",
       "       silent=True, subsample=1)"
      ]
     },
     "execution_count": 228,
     "metadata": {},
     "output_type": "execute_result"
    }
   ],
   "source": [
    "model_xgbc = XGBClassifier()\n",
    "model_xgbc.fit(x_train, y_train)"
   ]
  },
  {
   "cell_type": "code",
   "execution_count": 121,
   "metadata": {},
   "outputs": [
    {
     "name": "stdout",
     "output_type": "stream",
     "text": [
      "0.6748275862068965\n"
     ]
    }
   ],
   "source": [
    "model_xgbc_accur = sklearn.model_selection.cross_val_score(model_xgbc, \n",
    "                                        x_train, y_train, \n",
    "                                        scoring='accuracy',cv=5)\n",
    "#print(model_xgbc_accur)\n",
    "print(model_xgbc_accur.mean())"
   ]
  },
  {
   "cell_type": "code",
   "execution_count": 122,
   "metadata": {},
   "outputs": [
    {
     "name": "stdout",
     "output_type": "stream",
     "text": [
      "0.5945945945945946\n"
     ]
    }
   ],
   "source": [
    "model_xgbc_pred = model_xgbc.predict(x_test)\n",
    "model_xgbc_accur_pred = metrics.accuracy_score(y_test, model_xgbc_pred)\n",
    "print(model_xgbc_accur_pred)"
   ]
  },
  {
   "cell_type": "code",
   "execution_count": 123,
   "metadata": {},
   "outputs": [
    {
     "data": {
      "text/plain": [
       "array([[19,  1],\n",
       "       [14,  3]])"
      ]
     },
     "execution_count": 123,
     "metadata": {},
     "output_type": "execute_result"
    }
   ],
   "source": [
    "pred_xgb = model_xgbc .predict(x_test)\n",
    "confusion_matrix(y_test, pred_xgb)"
   ]
  },
  {
   "cell_type": "code",
   "execution_count": 124,
   "metadata": {},
   "outputs": [
    {
     "name": "stdout",
     "output_type": "stream",
     "text": [
      "             precision    recall  f1-score   support\n",
      "\n",
      "         -1       0.58      0.95      0.72        20\n",
      "          1       0.75      0.18      0.29        17\n",
      "\n",
      "avg / total       0.66      0.59      0.52        37\n",
      "\n"
     ]
    }
   ],
   "source": [
    "print(classification_report(y_test, pred_xgb))"
   ]
  },
  {
   "cell_type": "code",
   "execution_count": 471,
   "metadata": {},
   "outputs": [],
   "source": [
    "# score of prediction \n",
    "#y_scorexgbc = model_xgbc.fit(x_train, y_train).decision_function(test_lasso_select)"
   ]
  },
  {
   "cell_type": "markdown",
   "metadata": {},
   "source": [
    "# 6.SGD Classifier"
   ]
  },
  {
   "cell_type": "code",
   "execution_count": 478,
   "metadata": {},
   "outputs": [
    {
     "name": "stdout",
     "output_type": "stream",
     "text": [
      "\n",
      " Training score:  0.9795918367346939\n",
      "\n",
      "The accuracy score that we get is:  0.8108108108108109\n"
     ]
    }
   ],
   "source": [
    "from sklearn.linear_model import SGDClassifier\n",
    "sgdc = SGDClassifier()\n",
    "sgdc = sgdc.fit(x_train, y_train)\n",
    "print(\"\\n Training score: \",sgdc.score(x_train,y_train)) #evaluating the training error\n",
    "pred = sgdc.predict(x_test)\n",
    "score = metrics.accuracy_score(pred,y_test)\n",
    "print(\"\\nThe accuracy score that we get is: \",score)\n"
   ]
  },
  {
   "cell_type": "code",
   "execution_count": 479,
   "metadata": {},
   "outputs": [
    {
     "name": "stdout",
     "output_type": "stream",
     "text": [
      "Confusion Matrix: \n"
     ]
    },
    {
     "data": {
      "text/plain": [
       "array([[17,  3],\n",
       "       [ 4, 13]])"
      ]
     },
     "execution_count": 479,
     "metadata": {},
     "output_type": "execute_result"
    }
   ],
   "source": [
    "print(\"Confusion Matrix: \")\n",
    "confusion_matrix(y_test, pred)"
   ]
  },
  {
   "cell_type": "code",
   "execution_count": 480,
   "metadata": {},
   "outputs": [
    {
     "name": "stdout",
     "output_type": "stream",
     "text": [
      "             precision    recall  f1-score   support\n",
      "\n",
      "         -1       0.81      0.85      0.83        20\n",
      "          1       0.81      0.76      0.79        17\n",
      "\n",
      "avg / total       0.81      0.81      0.81        37\n",
      "\n"
     ]
    }
   ],
   "source": [
    "print(classification_report(y_test, pred))"
   ]
  },
  {
   "cell_type": "code",
   "execution_count": 484,
   "metadata": {},
   "outputs": [],
   "source": [
    "#score of prediction \n",
    "y_scoreSGD = sgdc.fit(x_train, y_train).decision_function(test_lasso_select)"
   ]
  },
  {
   "cell_type": "markdown",
   "metadata": {},
   "source": [
    "## 7.Gradient Boosting Classifier"
   ]
  },
  {
   "cell_type": "code",
   "execution_count": 489,
   "metadata": {},
   "outputs": [
    {
     "name": "stdout",
     "output_type": "stream",
     "text": [
      "\n",
      " Training score:  1.0\n",
      "\n",
      "The accuracy score that we get is:  0.6486486486486487\n"
     ]
    }
   ],
   "source": [
    "from sklearn.ensemble import GradientBoostingClassifier\n",
    "GBC = GradientBoostingClassifier(random_state=5)\n",
    "GBC = GBC.fit(x_train,y_train)\n",
    "print(\"\\n Training score: \",GBC.score(x_train,y_train)) #evaluating the training error\n",
    "predGBC = GBC.predict(x_test)\n",
    "score = metrics.accuracy_score(predGBC,y_test)\n",
    "print(\"\\nThe accuracy score that we get is: \",score)\n"
   ]
  },
  {
   "cell_type": "code",
   "execution_count": 490,
   "metadata": {},
   "outputs": [
    {
     "name": "stdout",
     "output_type": "stream",
     "text": [
      "Confusion Matrix: \n"
     ]
    },
    {
     "data": {
      "text/plain": [
       "array([[20,  0],\n",
       "       [13,  4]])"
      ]
     },
     "execution_count": 490,
     "metadata": {},
     "output_type": "execute_result"
    }
   ],
   "source": [
    "print(\"Confusion Matrix: \")\n",
    "confusion_matrix(y_test, predGBC)"
   ]
  },
  {
   "cell_type": "code",
   "execution_count": 491,
   "metadata": {},
   "outputs": [
    {
     "name": "stdout",
     "output_type": "stream",
     "text": [
      "             precision    recall  f1-score   support\n",
      "\n",
      "         -1       0.61      1.00      0.75        20\n",
      "          1       1.00      0.24      0.38        17\n",
      "\n",
      "avg / total       0.79      0.65      0.58        37\n",
      "\n"
     ]
    }
   ],
   "source": [
    "print(classification_report(y_test, predGBC))"
   ]
  },
  {
   "cell_type": "markdown",
   "metadata": {},
   "source": [
    "## 8.Ada Boost Classifier"
   ]
  },
  {
   "cell_type": "code",
   "execution_count": 495,
   "metadata": {},
   "outputs": [
    {
     "name": "stdout",
     "output_type": "stream",
     "text": [
      "\n",
      " Training score:  1.0\n",
      "\n",
      "The accuracy score that we get is:  0.7027027027027027\n"
     ]
    }
   ],
   "source": [
    "from sklearn.ensemble import AdaBoostClassifier\n",
    "ABC = AdaBoostClassifier(random_state=5)\n",
    "ABC = ABC.fit(x_train,y_train)\n",
    "print(\"\\n Training score: \",ABC.score(x_train,y_train)) #evaluating the training error\n",
    "predABC = ABC.predict(x_test)\n",
    "score = metrics.accuracy_score(predABC,y_test)\n",
    "print(\"\\nThe accuracy score that we get is: \",score)"
   ]
  },
  {
   "cell_type": "code",
   "execution_count": 496,
   "metadata": {},
   "outputs": [
    {
     "name": "stdout",
     "output_type": "stream",
     "text": [
      "Confusion Matrix: \n"
     ]
    },
    {
     "data": {
      "text/plain": [
       "array([[16,  4],\n",
       "       [ 7, 10]])"
      ]
     },
     "execution_count": 496,
     "metadata": {},
     "output_type": "execute_result"
    }
   ],
   "source": [
    "print(\"Confusion Matrix: \")\n",
    "confusion_matrix(y_test, predABC)"
   ]
  },
  {
   "cell_type": "code",
   "execution_count": 497,
   "metadata": {},
   "outputs": [
    {
     "name": "stdout",
     "output_type": "stream",
     "text": [
      "             precision    recall  f1-score   support\n",
      "\n",
      "         -1       0.70      0.80      0.74        20\n",
      "          1       0.71      0.59      0.65        17\n",
      "\n",
      "avg / total       0.70      0.70      0.70        37\n",
      "\n"
     ]
    }
   ],
   "source": [
    "print(classification_report(y_test, predABC))"
   ]
  },
  {
   "cell_type": "code",
   "execution_count": 498,
   "metadata": {},
   "outputs": [],
   "source": [
    "#score of prediction \n",
    "y_scoreABC = ABC.fit(x_train, y_train).decision_function(test_lasso_select)"
   ]
  }
 ],
 "metadata": {
  "kernelspec": {
   "display_name": "Python 3",
   "language": "python",
   "name": "python3"
  },
  "language_info": {
   "codemirror_mode": {
    "name": "ipython",
    "version": 3
   },
   "file_extension": ".py",
   "mimetype": "text/x-python",
   "name": "python",
   "nbconvert_exporter": "python",
   "pygments_lexer": "ipython3",
   "version": "3.6.5"
  }
 },
 "nbformat": 4,
 "nbformat_minor": 2
}
